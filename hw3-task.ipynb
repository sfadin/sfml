{
 "cells": [
  {
   "cell_type": "markdown",
   "metadata": {},
   "source": [
    "#### Соревнование на Kaggle"
   ]
  },
  {
   "cell_type": "markdown",
   "metadata": {},
   "source": [
    "Задача:\n",
    "Домашнее задание номер 3:\n",
    "Коллеги подготовили для вас домашнее задание на классификацию. В рамках задания вам предлагается решить задачу и сразиться между собой в качестве. Задача на предсказание: согласится ли клиент на депозит. Найти задание можно по ссылке (для участия нужна регистрация на kaggle.com)\n",
    "\n",
    "Нужно решить задачу с помощью 3х методов:\n",
    "кнн\n",
    "дерева принятия решения\n",
    "логистической регрессии\n",
    "и залить, на ваш взгляд, лучшее решение.\n",
    "\n",
    "Это командное ДЗ, его нужно выполнить совместно с вашими коллегами. Коммит делается от одного выбранного участника. Для зачета нужно:\n",
    "предоставить ноутбук с кодом, где вы попробовали все 3 метода\n",
    "залить предсказания для теста и найти себя в лидерборде\n",
    "Команда, занявшая 1 место, получит дополнительный балл. Метрика качества ROC-AUC.\n",
    "\n",
    "\n",
    "Метрика ROC-AUC\n",
    "\n",
    "* _id - идентификатор человека\n",
    "* age - возраст\n",
    "* job - тип работы (\"admin.\",\"blue-collar\",\"entrepreneur\",\"housemaid\",\"management\",\"retired\",\"self-employed\",\"services\",\"student\",\"technician\",\"unemployed\",\"unknown\")\n",
    "* marital - семейное положение (\"divorced\" (разведенный и овдовевший),\"married\",\"single\",\"unknown\")\n",
    "* education - уровень образования (\"basic.4y\",\"basic.6y\",\"basic.9y\",\"high.school\",\"illiterate\",\"professional.course\",\"university.degree\",\"unknown\")\n",
    "* default - есть ли дефолт по кредиту (\"no\",\"yes\",\"unknown\")\n",
    "* housing - есть ли кредит на жилье (\"no\",\"yes\",\"unknown\")\n",
    "* loan - есть ли персональный кредит (\"no\",\"yes\",\"unknown\")\n",
    "* contact - контактный тип связи (\"cellular\",\"telephone\")\n",
    "* month - последний контактный месяц года (\"jan\", \"feb\", \"mar\", ..., \"nov\", \"dec\")\n",
    "* day_of_week - последний контактный день недели (\"mon\",\"tue\",\"wed\",\"thu\",\"fri\")\n",
    "* duration - длительность последнего контакта в секундах. (Важное замечание: этот атрибут сильно влияет на таргет (например, если длительность - 0 сек., то таргет - 0). Тем не менее, продолжительность не известна до выполнения вызова.\n",
    "* campaign - количество контактов, выполненных для этого клиента в рамках текущей маркетинговой кампании (включая последний контакт)\n",
    "* pdays - количество дней прошедших последнего контакта с клиентом с предыдущей маркетинговой кампании (999 означает, что ранее с клиентом не контактировали)\n",
    "* previous - количество контактов, выполненных до текущей маркетинговой кампании для этого клиента\n",
    "* poutcome - результат предыдущей маркетинговой кампании (\"failure\",\"nonexistent\",\"success\")\n",
    "\n",
    "ниже приведены показатели окружающей среды и банка\n",
    "\n",
    "* emp.var.rate - изменение уровня занятости (квартальный показатель)\n",
    "* cons.price.idx - индекс потребительских цен (ежемесячный показатель)\n",
    "* cons.conf.idx - индекс доверия потребителя (ежемесячный показатель)\n",
    "* euribor3m - курс Euribor (ежедневный показатель)\n",
    "* nr.employed - количество сотрудников (квартальный показатель)\n",
    "* target - целевая переменная (таргет) - согласился ли клиент на вклад (депозит)"
   ]
  },
  {
   "cell_type": "code",
   "execution_count": 1,
   "metadata": {},
   "outputs": [],
   "source": [
    "import pandas as pd\n",
    "import numpy as np\n",
    "import matplotlib.pyplot as plt\n",
    "import seaborn as sns; sns.set()\n",
    "from sklearn.pipeline import Pipeline\n",
    "from sklearn.preprocessing import OneHotEncoder, LabelEncoder, MinMaxScaler, StandardScaler\n",
    "from sklearn.tree import DecisionTreeClassifier\n",
    "from sklearn.neighbors import KNeighborsClassifier\n",
    "from sklearn.linear_model import LogisticRegression\n",
    "from sklearn.model_selection import GridSearchCV, train_test_split"
   ]
  },
  {
   "cell_type": "code",
   "execution_count": 2,
   "metadata": {
    "scrolled": true
   },
   "outputs": [],
   "source": [
    "# Грузим данные\n",
    "row_data_train = pd.read_csv('train.csv', encoding='utf-8')\n",
    "row_data_test = pd.read_csv('test.csv', encoding='utf-8')"
   ]
  },
  {
   "cell_type": "code",
   "execution_count": 3,
   "metadata": {},
   "outputs": [],
   "source": [
    "# Добавляем в датафреймы столбец для дальнейшего разбиения данных\n",
    "row_data_train.loc[:, 'sample'] = 'train' \n",
    "row_data_test.loc[:, 'sample'] = 'test'"
   ]
  },
  {
   "cell_type": "code",
   "execution_count": 4,
   "metadata": {},
   "outputs": [
    {
     "name": "stdout",
     "output_type": "stream",
     "text": [
      "<class 'pandas.core.frame.DataFrame'>\n",
      "RangeIndex: 41188 entries, 0 to 41187\n",
      "Data columns (total 23 columns):\n",
      "_id               41188 non-null object\n",
      "age               41188 non-null int64\n",
      "job               41188 non-null object\n",
      "marital           41188 non-null object\n",
      "education         41188 non-null object\n",
      "default           41188 non-null object\n",
      "housing           41188 non-null object\n",
      "loan              41188 non-null object\n",
      "contact           41188 non-null object\n",
      "month             41188 non-null object\n",
      "day_of_week       41188 non-null object\n",
      "duration          41188 non-null int64\n",
      "campaign          41188 non-null int64\n",
      "pdays             41188 non-null int64\n",
      "previous          41188 non-null int64\n",
      "poutcome          41188 non-null object\n",
      "emp.var.rate      41188 non-null float64\n",
      "cons.price.idx    41188 non-null float64\n",
      "cons.conf.idx     41188 non-null float64\n",
      "euribor3m         41188 non-null float64\n",
      "nr.employed       41188 non-null float64\n",
      "target            24712 non-null float64\n",
      "sample            41188 non-null object\n",
      "dtypes: float64(6), int64(5), object(12)\n",
      "memory usage: 7.2+ MB\n"
     ]
    }
   ],
   "source": [
    "# Склеиваем тренировочный и тестовый df и смотрим данные\n",
    "row_data = row_data_train.append(row_data_test, ignore_index=True, sort=False)\n",
    "row_data.info()"
   ]
  },
  {
   "cell_type": "code",
   "execution_count": 5,
   "metadata": {
    "scrolled": false
   },
   "outputs": [
    {
     "name": "stdout",
     "output_type": "stream",
     "text": [
      "==========\n",
      "job\n",
      "{'services', 'management', 'blue-collar', 'retired', 'entrepreneur', 'housemaid', 'admin.', 'unknown', 'technician', 'unemployed', 'student', 'self-employed'}\n",
      "\n",
      "\n",
      "==========\n",
      "marital\n",
      "{'married', 'divorced', 'unknown', 'single'}\n",
      "\n",
      "\n",
      "==========\n",
      "education\n",
      "{'basic.9y', 'professional.course', 'illiterate', 'high.school', 'university.degree', 'unknown', 'basic.6y', 'basic.4y'}\n",
      "\n",
      "\n",
      "==========\n",
      "default\n",
      "{'yes', 'unknown', 'no'}\n",
      "\n",
      "\n",
      "==========\n",
      "housing\n",
      "{'yes', 'unknown', 'no'}\n",
      "\n",
      "\n",
      "==========\n",
      "loan\n",
      "{'yes', 'unknown', 'no'}\n",
      "\n",
      "\n",
      "==========\n",
      "contact\n",
      "{'cellular', 'telephone'}\n",
      "\n",
      "\n",
      "==========\n",
      "month\n",
      "{'jun', 'dec', 'mar', 'aug', 'nov', 'apr', 'may', 'sep', 'jul', 'oct'}\n",
      "\n",
      "\n",
      "==========\n",
      "day_of_week\n",
      "{'tue', 'wed', 'mon', 'fri', 'thu'}\n",
      "\n",
      "\n",
      "==========\n",
      "poutcome\n",
      "{'success', 'failure', 'nonexistent'}\n",
      "\n",
      "\n",
      "==========\n",
      "sample\n",
      "{'test', 'train'}\n",
      "\n",
      "\n"
     ]
    }
   ],
   "source": [
    "# Смотрим какие стольцы типа object\n",
    "for i in row_data.columns:\n",
    "    if i == '_id':\n",
    "        continue\n",
    "    if str(row_data[i].dtype) == 'object':\n",
    "        print('='*10)\n",
    "        print(i)\n",
    "        print(set(row_data[i]))\n",
    "        print('\\n')"
   ]
  },
  {
   "cell_type": "code",
   "execution_count": 6,
   "metadata": {
    "scrolled": true
   },
   "outputs": [
    {
     "name": "stdout",
     "output_type": "stream",
     "text": [
      "<class 'pandas.core.frame.DataFrame'>\n",
      "RangeIndex: 24712 entries, 0 to 24711\n",
      "Data columns (total 65 columns):\n",
      "age                              24712 non-null int64\n",
      "duration                         24712 non-null int64\n",
      "campaign                         24712 non-null int64\n",
      "pdays                            24712 non-null int64\n",
      "previous                         24712 non-null int64\n",
      "emp.var.rate                     24712 non-null float64\n",
      "cons.price.idx                   24712 non-null float64\n",
      "cons.conf.idx                    24712 non-null float64\n",
      "euribor3m                        24712 non-null float64\n",
      "nr.employed                      24712 non-null float64\n",
      "target                           24712 non-null float64\n",
      "job_admin.                       24712 non-null uint8\n",
      "job_blue-collar                  24712 non-null uint8\n",
      "job_entrepreneur                 24712 non-null uint8\n",
      "job_housemaid                    24712 non-null uint8\n",
      "job_management                   24712 non-null uint8\n",
      "job_retired                      24712 non-null uint8\n",
      "job_self-employed                24712 non-null uint8\n",
      "job_services                     24712 non-null uint8\n",
      "job_student                      24712 non-null uint8\n",
      "job_technician                   24712 non-null uint8\n",
      "job_unemployed                   24712 non-null uint8\n",
      "job_unknown                      24712 non-null uint8\n",
      "marital_divorced                 24712 non-null uint8\n",
      "marital_married                  24712 non-null uint8\n",
      "marital_single                   24712 non-null uint8\n",
      "marital_unknown                  24712 non-null uint8\n",
      "education_basic.4y               24712 non-null uint8\n",
      "education_basic.6y               24712 non-null uint8\n",
      "education_basic.9y               24712 non-null uint8\n",
      "education_high.school            24712 non-null uint8\n",
      "education_illiterate             24712 non-null uint8\n",
      "education_professional.course    24712 non-null uint8\n",
      "education_university.degree      24712 non-null uint8\n",
      "education_unknown                24712 non-null uint8\n",
      "default_no                       24712 non-null uint8\n",
      "default_unknown                  24712 non-null uint8\n",
      "default_yes                      24712 non-null uint8\n",
      "housing_no                       24712 non-null uint8\n",
      "housing_unknown                  24712 non-null uint8\n",
      "housing_yes                      24712 non-null uint8\n",
      "loan_no                          24712 non-null uint8\n",
      "loan_unknown                     24712 non-null uint8\n",
      "loan_yes                         24712 non-null uint8\n",
      "contact_cellular                 24712 non-null uint8\n",
      "contact_telephone                24712 non-null uint8\n",
      "month_apr                        24712 non-null uint8\n",
      "month_aug                        24712 non-null uint8\n",
      "month_dec                        24712 non-null uint8\n",
      "month_jul                        24712 non-null uint8\n",
      "month_jun                        24712 non-null uint8\n",
      "month_mar                        24712 non-null uint8\n",
      "month_may                        24712 non-null uint8\n",
      "month_nov                        24712 non-null uint8\n",
      "month_oct                        24712 non-null uint8\n",
      "month_sep                        24712 non-null uint8\n",
      "day_of_week_fri                  24712 non-null uint8\n",
      "day_of_week_mon                  24712 non-null uint8\n",
      "day_of_week_thu                  24712 non-null uint8\n",
      "day_of_week_tue                  24712 non-null uint8\n",
      "day_of_week_wed                  24712 non-null uint8\n",
      "poutcome_failure                 24712 non-null uint8\n",
      "poutcome_nonexistent             24712 non-null uint8\n",
      "poutcome_success                 24712 non-null uint8\n",
      "_id                              24712 non-null object\n",
      "dtypes: float64(6), int64(5), object(1), uint8(53)\n",
      "memory usage: 3.5+ MB\n"
     ]
    }
   ],
   "source": [
    "# Для атрибутов типа object используем one-hot-encoding\n",
    "data = pd.get_dummies(row_data.drop(['_id', 'sample'], axis=1))\n",
    "data = pd.concat([data, row_data[['_id', 'sample']]], axis=1)\n",
    "data_test = data[data['sample'] == 'test'].drop(['target', 'sample'], axis=1).reset_index(drop=True)\n",
    "data_train = data[data['sample'] == 'train'].drop(['sample'], axis=1).reset_index(drop=True)\n",
    "features_train, features_test, targets_train, targets_test = train_test_split(data_train.drop(['target', '_id'], axis=1), data_train['target'], test_size=0.2, random_state=42)\n",
    "data_train.info()"
   ]
  },
  {
   "cell_type": "code",
   "execution_count": 8,
   "metadata": {},
   "outputs": [],
   "source": [
    "# Соберем pipline для всех моделей\n",
    "model_tree = DecisionTreeClassifier()\n",
    "pipe_linear = Pipeline([('scaler', MinMaxScaler()), ('model', LogisticRegression())])\n",
    "pipe_neighb = Pipeline([('scaler', MinMaxScaler()), ('model', KNeighborsClassifier())])"
   ]
  },
  {
   "cell_type": "markdown",
   "metadata": {},
   "source": [
    "#### КНН - KNeighborsClassifier - Метод k-ближайших соседей"
   ]
  },
  {
   "cell_type": "code",
   "execution_count": 10,
   "metadata": {},
   "outputs": [
    {
     "name": "stdout",
     "output_type": "stream",
     "text": [
      "\tНа тренеровочных данных:\n",
      "Результат: 0.75\n",
      "Соответствует параметрам:\n",
      " {'model__n_neighbors': 5}\n",
      "\n",
      "\n",
      " \tНа тестовых данных:\n",
      "Результат: 0.78\n"
     ]
    }
   ],
   "source": [
    "pipe_neighb = Pipeline([('scaler', MinMaxScaler()), ('model', KNeighborsClassifier())])\n",
    "param_grid = {\n",
    "    'model__n_neighbors': range(1,6)\n",
    "}\n",
    "grid_search = GridSearchCV(pipe_neighb, param_grid=param_grid, cv=5, scoring='roc_auc', n_jobs=-1)\n",
    "grid_search.fit(features_train, targets_train)\n",
    "print('\\tНа тренеровочных данных:')\n",
    "print('Результат: {:.2f}'.format(grid_search.best_score_))\n",
    "print('Соответствует параметрам:\\n', grid_search.best_params_)\n",
    "print('\\n'*2, '\\tНа тестовых данных:')\n",
    "print('Результат: {:.2f}'.format(grid_search.score(features_test, targets_test)))"
   ]
  },
  {
   "cell_type": "markdown",
   "metadata": {},
   "source": [
    "#### DecisionTreeClassifier - дерево принятия решений"
   ]
  },
  {
   "cell_type": "code",
   "execution_count": 11,
   "metadata": {},
   "outputs": [
    {
     "name": "stdout",
     "output_type": "stream",
     "text": [
      "\tНа тренеровочных данных:\n",
      "Результат: 0.92\n",
      "Соответствует параметрам:\n",
      " {'max_depth': 6}\n",
      "\n",
      "\n",
      " \tНа тестовых данных:\n",
      "Результат: 0.91\n"
     ]
    }
   ],
   "source": [
    "model_tree = DecisionTreeClassifier()\n",
    "param_grid = {\n",
    "    'max_depth': [2, 4, 6, 8, 10, 20, 40, 100],\n",
    "}\n",
    "grid_search = GridSearchCV(model_tree, param_grid=param_grid, cv=5, scoring='roc_auc', n_jobs=-1)\n",
    "grid_search.fit(features_train, targets_train)\n",
    "print('\\tНа тренеровочных данных:')\n",
    "print('Результат: {:.2f}'.format(grid_search.best_score_))\n",
    "print('Соответствует параметрам:\\n', grid_search.best_params_)\n",
    "print('\\n'*2, '\\tНа тестовых данных:')\n",
    "print('Результат: {:.2f}'.format(grid_search.score(features_test, targets_test)))"
   ]
  },
  {
   "cell_type": "markdown",
   "metadata": {},
   "source": [
    "#### LogisticRegression - логистическая регрессия"
   ]
  },
  {
   "cell_type": "code",
   "execution_count": 12,
   "metadata": {},
   "outputs": [
    {
     "name": "stdout",
     "output_type": "stream",
     "text": [
      "\tНа тренеровочных данных:\n",
      "Результат: 0.93\n",
      "Соответствует параметрам:\n",
      " {'model__C': 100000.0, 'model__penalty': 'l1'}\n",
      "\n",
      "\n",
      " \tНа тестовых данных:\n",
      "Результат: 0.93\n"
     ]
    }
   ],
   "source": [
    "pipe_linear = Pipeline([('scaler', MinMaxScaler()), ('model', LogisticRegression())])\n",
    "param_grid = {\n",
    "    'model__penalty': ['l1', 'l2'],\n",
    "    'model__C': np.logspace(-5, 5, 11),\n",
    "}\n",
    "grid_search = GridSearchCV(pipe_linear, param_grid=param_grid, cv=5, scoring='roc_auc', n_jobs=-1)\n",
    "grid_search.fit(features_train, targets_train)\n",
    "best_model = grid_search.best_estimator_\n",
    "print('\\tНа тренеровочных данных:')\n",
    "print('Результат: {:.2f}'.format(grid_search.best_score_))\n",
    "print('Соответствует параметрам:\\n', grid_search.best_params_)\n",
    "print('\\n'*2, '\\tНа тестовых данных:')\n",
    "print('Результат: {:.2f}'.format(grid_search.score(features_test, targets_test)))"
   ]
  },
  {
   "cell_type": "markdown",
   "metadata": {},
   "source": [
    "#### Записываем лучшие данные"
   ]
  },
  {
   "cell_type": "code",
   "execution_count": 13,
   "metadata": {},
   "outputs": [],
   "source": [
    "best_model.fit(data_train.drop(['target', '_id'], axis=1), data_train['target'])\n",
    "results = best_model.predict(data_test.drop('_id', axis=1))\n",
    "results = results.astype(int)\n",
    "_id = data_test['_id'].values\n",
    "df = pd.DataFrame(results)\n",
    "df.index = _id\n",
    "df.columns = ['target']\n",
    "df.index.name='_id'\n",
    "df.to_csv('results.csv', header=True)"
   ]
  },
  {
   "cell_type": "code",
   "execution_count": null,
   "metadata": {},
   "outputs": [],
   "source": []
  }
 ],
 "metadata": {
  "kernelspec": {
   "display_name": "Python 3",
   "language": "python",
   "name": "python3"
  },
  "language_info": {
   "codemirror_mode": {
    "name": "ipython",
    "version": 3
   },
   "file_extension": ".py",
   "mimetype": "text/x-python",
   "name": "python",
   "nbconvert_exporter": "python",
   "pygments_lexer": "ipython3",
   "version": "3.7.0"
  }
 },
 "nbformat": 4,
 "nbformat_minor": 2
}
